{
 "cells": [
  {
   "cell_type": "markdown",
   "metadata": {},
   "source": [
    "# Calculate cross correlation functions from raw noise data in SAC\n",
    "\n",
    "In this notebook, we show some of the key steps in NoisePy for computing cross correlation functions in order for you better understand the unerlying processes of NoisePy script of S1. The input data are daily noise data recorded by two stations and here we show examples in SAC format. \n",
    "\n",
    "The steps to compuate cross correlation functions are:    \n",
    "* Load SAC data and the header info into memory\n",
    "* Break the continous data into small segments with overlaps\n",
    "* Perform Fourier Transform to convert signals into frequency-domain\n",
    "* Calculate cross correlation functions between the small time segments and choose to stack (substack) the cross correlation function of each segment and return to time domain\n",
    "* Save the function in an ASDF file\n",
    "\n",
    "More details on the descriptions of data processing, parameters for different cross correlation method and performance of NoisePy can be found in the online [documentations](https://noise-python.readthedocs.io/en/latest/) and our paper.\n",
    "\n",
    "`Jiang, C. and Denolle, M. 2020. NoisePy: a new high-performance python tool for seismic ambient noise seismology. _Seismological Research Letter_. 91, 1853-1866`\n",
    "\n",
    "\n",
    "\n",
    "Chengxin Jiang & Marine Denolle\n",
    "\n",
    "Department of Earth and Planetary Science\n",
    "\n",
    "Harvard University\n",
    "\n",
    "November 2019"
   ]
  },
  {
   "cell_type": "markdown",
   "metadata": {},
   "source": [
    "## Building env for NoisePy\n",
    "\n",
    "Before running this notebook, make sure that you have created and activated the conda env made for NoisePy. If not, you can create one using command lines below (note that jupyter is installed with the command lines here in order to run this notebook). \n",
    "\n",
    "```python\n",
    "conda create -n noisepy -c conda-forge python=3.7 numpy=1.16.2 numba pandas pycwt jupyter mpi4py=3.0.1 obspy=1.1 pyasdf\n",
    "conda activate noisepy\n",
    "```\n",
    "\n",
    "Then you need to activate this notebook with the newly built NoisePy env by invoking the jupyter with the following command line.\n",
    "\n",
    "```python\n",
    "jupyter notebook\n",
    "```\n",
    "\n",
    "Now we can begin to load the modules needed for this practise. "
   ]
  },
  {
   "cell_type": "code",
   "execution_count": 1,
   "metadata": {},
   "outputs": [],
   "source": [
    "import os\n",
    "import sys\n",
    "import glob\n",
    "import obspy\n",
    "import scipy\n",
    "import pyasdf\n",
    "import numpy as np\n",
    "import matplotlib.pyplot as plt \n",
    "\n",
    "sys.path.insert(1,'../src')\n",
    "import noise_module"
   ]
  },
  {
   "cell_type": "markdown",
   "metadata": {},
   "source": [
    "## 1. Setup basic parameters\n",
    "\n",
    "The fundamental step is to setup the parameters used for cross correlation. As you can find from section below, there are many parameters needed for the computation, which are associated with the input data, some details controlling the targeted processing procedures and some tuning parameters. Some brief descriptions of the parameters are included here following the definination, but note that more details on this can be found in documentations.  "
   ]
  },
  {
   "cell_type": "code",
   "execution_count": 2,
   "metadata": {},
   "outputs": [],
   "source": [
    "sfiles = glob.glob('/Users/iotsoftwareengineer/cross-correlation-noisepy/2 stasiun 1 component/*.SAC')      # find sac files\n",
    "if len(sfiles)<2:\n",
    "    raise ValueError('Abort! At least 2 sac files are needed!')\n",
    "outpath = './'                     # output dir\n",
    "\n",
    "# parameters of fft_cc\n",
    "cc_len    = 4000                    # window length (sec) to cut daily data into small segments\n",
    "step      = 450                     # overlapping (sec) between the sliding window\n",
    "smooth_N  = 10                      # number of points to be smoothed for running-mean average (time-domain)\n",
    "dt        = 0.05                    # sampling time intervals of the data: in real case it reads from data directly\n",
    "samp_freq = int(1/dt)               # sampling rate \n",
    "inc_hours = 24                      # basic length (hour) of the continous noise data        \n",
    "freqmin   = 0.01                     # frequency range\n",
    "freqmax   = 10            \n",
    "\n",
    "freq_norm   = 'rma'                 # rma-> running mean average for frequency-domain normalization\n",
    "time_norm   = 'no'                  # no-> no time-domain normalization; other options are 'rma' for running-mean and 'one-bit'\n",
    "cc_method   = 'xcorr'               # xcorr-> pure cross correlation; other option is 'decon'\n",
    "substack       = False              # sub-stack daily cross-correlation or not\n",
    "substack_len   = cc_len             # how long to stack over: need to be multiples of cc_len\n",
    "smoothspect_N  = 10                 # number of points to be smoothed for running-mean average (freq-domain)\n",
    "\n",
    "# cross-correlation parameters\n",
    "maxlag       = 100                  # time lag (sec) for the cross correlation functions\n",
    "max_over_std = 10                   # amplitude therahold to remove segments of spurious phases \n",
    "\n",
    "# group parameters into a dict\n",
    "fc_para={'samp_freq':samp_freq,'dt':dt,'cc_len':cc_len,'step':step,'freq_norm':freq_norm,'time_norm':time_norm,\\\n",
    "    'cc_method':cc_method,'maxlag':maxlag,'max_over_std':max_over_std,'inc_hours':inc_hours,'smooth_N':smooth_N,\\\n",
    "    'freqmin':freqmin,'freqmax':freqmax,'smoothspect_N':smoothspect_N,'substack':substack,\\\n",
    "    'substack_len':substack_len}"
   ]
  },
  {
   "cell_type": "markdown",
   "metadata": {},
   "source": [
    "## 2. Load source data"
   ]
  },
  {
   "cell_type": "code",
   "execution_count": 6,
   "metadata": {},
   "outputs": [
    {
     "name": "stdout",
     "output_type": "stream",
     "text": [
      "1 Trace(s) in Stream:\n",
      "MX.AFB..BHE | 2004-07-20T00:00:00.000000Z - 2004-07-21T00:00:00.000000Z | 10.0 Hz, 864001 samples \n",
      "\n",
      "109.77509 \n",
      "\n",
      "-7.62696 \n",
      "\n",
      "dataS:  [[  0.          0.         -0.        ...   0.         -0.\n",
      "   -0.       ]\n",
      " [  0.          0.         -0.        ...   0.         -0.\n",
      "   -0.       ]\n",
      " [  0.          0.         -0.        ...   0.         -0.\n",
      "   -0.       ]\n",
      " ...\n",
      " [  0.         -0.5207414 -11.673114  ...  58.441315   13.481705\n",
      "    0.       ]\n",
      " [  0.          9.768849   24.140825  ...  76.010155   18.829933\n",
      "    0.       ]\n",
      " [  0.         25.624344   93.12447   ...  51.37841     9.721543\n",
      "    0.       ]]\n",
      "[[ 0.0000000e+00+0.0000000e+00j  3.7493994e-33+0.0000000e+00j\n",
      "   7.5961235e-03+0.0000000e+00j ...  3.0153690e-02-0.0000000e+00j\n",
      "   7.5961235e-03-0.0000000e+00j  3.7493994e-33-0.0000000e+00j]\n",
      " [ 0.0000000e+00+0.0000000e+00j  3.7493994e-33+0.0000000e+00j\n",
      "   7.5961235e-03+0.0000000e+00j ...  3.0153690e-02-0.0000000e+00j\n",
      "   7.5961235e-03-0.0000000e+00j  3.7493994e-33-0.0000000e+00j]\n",
      " [ 0.0000000e+00+0.0000000e+00j  3.7493994e-33+0.0000000e+00j\n",
      "   7.5961235e-03+0.0000000e+00j ...  3.0153690e-02-0.0000000e+00j\n",
      "   7.5961235e-03-0.0000000e+00j  3.7493994e-33-0.0000000e+00j]\n",
      " ...\n",
      " [ 0.0000000e+00+0.0000000e+00j  5.0724115e-34-3.7149295e-33j\n",
      "  -2.0550929e-03+7.3128440e-03j ... -2.1476129e-02-2.1166503e-02j\n",
      "  -2.0550929e-03-7.3128440e-03j  5.0724115e-34+3.7149295e-33j]\n",
      " [ 0.0000000e+00-0.0000000e+00j  3.6919710e-33-6.5371615e-34j\n",
      "  -7.5130090e-03+1.1206185e-03j ...  1.2959092e-03+3.0125830e-02j\n",
      "  -7.5130090e-03-1.1206185e-03j  3.6919710e-33+6.5371615e-34j]\n",
      " [ 0.0000000e+00-0.0000000e+00j  3.7437445e-33+2.0584945e-34j\n",
      "   1.4345992e-03-7.4594249e-03j ...  2.1488484e-02-2.1153962e-02j\n",
      "   1.4345992e-03+7.4594249e-03j  3.7437445e-33-2.0584945e-34j]] source_white\n",
      " source_white:  [[ 0.0000000e+00-0.0000000e+00j  3.7493994e-33-0.0000000e+00j\n",
      "   7.5961235e-03-0.0000000e+00j ...  3.0153690e-02+0.0000000e+00j\n",
      "   7.5961235e-03+0.0000000e+00j  3.7493994e-33+0.0000000e+00j]\n",
      " [ 0.0000000e+00-0.0000000e+00j  3.7493994e-33-0.0000000e+00j\n",
      "   7.5961235e-03-0.0000000e+00j ...  3.0153690e-02+0.0000000e+00j\n",
      "   7.5961235e-03+0.0000000e+00j  3.7493994e-33+0.0000000e+00j]\n",
      " [ 0.0000000e+00-0.0000000e+00j  3.7493994e-33-0.0000000e+00j\n",
      "   7.5961235e-03-0.0000000e+00j ...  3.0153690e-02+0.0000000e+00j\n",
      "   7.5961235e-03+0.0000000e+00j  3.7493994e-33+0.0000000e+00j]\n",
      " ...\n",
      " [ 0.0000000e+00-0.0000000e+00j  5.0724115e-34+3.7149295e-33j\n",
      "  -2.0550929e-03-7.3128440e-03j ... -2.1476129e-02+2.1166503e-02j\n",
      "  -2.0550929e-03+7.3128440e-03j  5.0724115e-34-3.7149295e-33j]\n",
      " [ 0.0000000e+00+0.0000000e+00j  3.6919710e-33+6.5371615e-34j\n",
      "  -7.5130090e-03-1.1206185e-03j ...  1.2959092e-03-3.0125830e-02j\n",
      "  -7.5130090e-03+1.1206185e-03j  3.6919710e-33-6.5371615e-34j]\n",
      " [ 0.0000000e+00+0.0000000e+00j  3.7437445e-33-2.0584945e-34j\n",
      "   1.4345992e-03+7.4594249e-03j ...  2.1488484e-02+2.1153962e-02j\n",
      "   1.4345992e-03-7.4594249e-03j  3.7437445e-33+2.0584945e-34j]]\n",
      " Nfft:  40000\n"
     ]
    }
   ],
   "source": [
    "# read source and some meta info\n",
    "\n",
    "tr_source = obspy.read(sfiles[0])\n",
    "print(tr_source, '\\n')\n",
    "slon = tr_source[0].stats.sac['stlo'] #source longitude\n",
    "print(slon, '\\n')\n",
    "slat = tr_source[0].stats.sac['stla'] #source latitude\n",
    "print(slat, '\\n')\n",
    "\n",
    "# cut source traces into small segments and make statistics\n",
    "trace_stdS,dataS_t,dataS = noise_module.cut_trace_make_stat(fc_para,tr_source)\n",
    "\n",
    "# do fft to freq-domain\n",
    "print(\"dataS: \", dataS)\n",
    "source_white = noise_module.noise_processing(fc_para,dataS)\n",
    "print(source_white, \"source_white\")\n",
    "source_white = np.conjugate(source_white)\n",
    "print(\" source_white: \",source_white)\n",
    "\n",
    "# num of frequency data\n",
    "Nfft = source_white.shape[1];Nfft2 = Nfft//2\n",
    "print(\" Nfft: \",Nfft)\n",
    "\n",
    "# find the right index of good signals\n",
    "sou_ind = np.where((trace_stdS<max_over_std)&(trace_stdS>0)&(np.isnan(trace_stdS)==0))[0]"
   ]
  },
  {
   "cell_type": "markdown",
   "metadata": {},
   "source": [
    "## 3. Load receiver data"
   ]
  },
  {
   "cell_type": "code",
   "execution_count": 15,
   "metadata": {},
   "outputs": [
    {
     "name": "stdout",
     "output_type": "stream",
     "text": [
      "1 Trace(s) in Stream:\n",
      "MX.DEB..BHE | 2004-07-20T00:00:00.000000Z - 2004-07-21T00:00:00.000000Z | 10.0 Hz, 864001 samples tr_receiver\n",
      "109.73565 \n",
      "\n",
      "-7.03357 \n",
      "\n",
      "65768.76067374504 dist\n",
      "356.200538518839 azi\n"
     ]
    }
   ],
   "source": [
    "# read receiver and some meta info\n",
    "tr_receiver = obspy.read(sfiles[1])\n",
    "print(tr_receiver, \"tr_receiver\")\n",
    "rlon = tr_receiver[0].stats.sac['stlo']\n",
    "print(rlon, '\\n')\n",
    "rlat = tr_receiver[0].stats.sac['stla']\n",
    "print(rlat, '\\n')\n",
    "\n",
    "# work out distance between source and receiver\n",
    "dist,azi,baz = obspy.geodetics.base.gps2dist_azimuth(slat,slon,rlat,rlon)\n",
    "print(dist, \"dist\")\n",
    "print(azi, \"azi\")\n",
    "\n",
    "# cut source traces into small segments and make statistics\n",
    "trace_stdR,dataR_t,dataR = noise_module.cut_trace_make_stat(fc_para,tr_receiver)\n",
    "\n",
    "# do fft to freq-domain\n",
    "receiver_white = noise_module.noise_processing(fc_para,dataR)\n",
    "\n",
    "# find the right index of good signals\n",
    "rec_ind = np.where((trace_stdR<max_over_std)&(trace_stdR>0)&(np.isnan(trace_stdR)==0))[0]"
   ]
  },
  {
   "cell_type": "markdown",
   "metadata": {},
   "source": [
    "## 4. Perform cross correlation"
   ]
  },
  {
   "cell_type": "code",
   "execution_count": 8,
   "metadata": {},
   "outputs": [
    {
     "name": "stdout",
     "output_type": "stream",
     "text": [
      "4001\n"
     ]
    },
    {
     "data": {
      "image/png": "[encoded data removed]",
      "text/plain": [
       "<Figure size 432x288 with 1 Axes>"
      ]
     },
     "metadata": {
      "needs_background": "light"
     },
     "output_type": "display_data"
    }
   ],
   "source": [
    "# find the segments of good data for both source and receiver\n",
    "bb=np.intersect1d(sou_ind,rec_ind)\n",
    "if len(bb)==0:raise ValueError('Abort! no good data in overlap')\n",
    "\n",
    "# do cross correlation\n",
    "corr_day,t_corr,n_corr = noise_module.correlate(source_white[bb,:Nfft2],receiver_white[bb,:Nfft2],fc_para,Nfft,dataS_t)\n",
    "\n",
    "# plot the waveform\n",
    "print(len(corr_day))\n",
    "tvec = np.arange(-maxlag,maxlag+dt,dt)\n",
    "plt.figure()\n",
    "plt.plot(tvec,corr_day)\n",
    "plt.xlabel('time [s]')\n",
    "plt.title('cross correlation function between AFB and DEB')\n",
    "plt.show()"
   ]
  },
  {
   "cell_type": "markdown",
   "metadata": {},
   "source": [
    "## 5. Save cross correlation data into ASDF file\n",
    "\n",
    "Though we only have one station pair, we can try to save it into the ASDF file. We save the cross correlation data into the auxiliary structure of ASDF, which has two dimentions (data_type and path). In this example, we use the station and network name of the source and receiver station to define the $data\\_type$ and use the channel names to define the $path$. The two tags are chose because the two-dimention variable are enough to define any cross component of the cross correlation functions for any station pairs. "
   ]
  },
  {
   "cell_type": "code",
   "execution_count": 9,
   "metadata": {},
   "outputs": [],
   "source": [
    "cc_h5 = './CCF/Data Stasiun.h5'         \n",
    "with pyasdf.ASDFDataSet(cc_h5,mpi=False,mode='w') as ccf_ds:\n",
    "    # location info \n",
    "    coor = {'lonS':slon,'latS':slat,'lonR':rlon,'latR':rlat}\n",
    "    # cross component\n",
    "    comp = tr_source[0].stats.channel[-1]+tr_receiver[0].stats.channel[-1]\n",
    "    # parameters to be saved into ASDF\n",
    "    parameters = noise_module.cc_parameters(fc_para,coor,t_corr,n_corr,comp)\n",
    "\n",
    "    # data_type name as source-receiver pair\n",
    "    data_type = tr_source[0].stats.network+'.'+tr_source[0].stats.station+'_'+tr_receiver[0].stats.network+'.'+tr_receiver[0].stats.station\n",
    "    # path name as cross component\n",
    "    path = comp\n",
    "    # command to save data and parameters into asdf structure\n",
    "    ccf_ds.add_auxiliary_data(data=corr_day, data_type=data_type, path=path, parameters=parameters)\n"
   ]
  },
  {
   "cell_type": "markdown",
   "metadata": {},
   "source": [
    "## 6. Read the ASDF file\n",
    "\n",
    "Finally, we want to read the cross correlation function we just saved. To retrive the data, we simply need the two tags we just created for the auxiliary structure in ASDF, which are $data\\_type$ and $path$. Note that we do not necessarily need to know the two parameters beforehand, because we can simply get the two parameters from reading the file. You will see how we do it from the codes below.  "
   ]
  },
  {
   "cell_type": "code",
   "execution_count": 12,
   "metadata": {
    "scrolled": true
   },
   "outputs": [
    {
     "name": "stdout",
     "output_type": "stream",
     "text": [
      "['MX.AFB_MX.DEB'] ['EE']\n",
      "[-9.1104390e-04  1.7497286e-03 -8.7581582e-05 ...  1.9880246e-05\n",
      " -1.2105450e-03  4.6576612e-04] {'azi': 356.20053, 'baz': 176.20557, 'cc_method': 'xcorr', 'comp': 'EE', 'dist': 65.76876, 'dt': 0.05, 'latR': -7.03357, 'latS': -7.62696, 'lonR': 109.73565, 'lonS': 109.77509, 'maxlag': 100, 'ngood': 129, 'substack': False, 'time': 1090281600.0}\n",
      "[-9.1104390e-04  1.7497286e-03 -8.7581582e-05 ...  1.9880246e-05\n",
      " -1.2105450e-03  4.6576612e-04] data\n",
      "{'azi': 356.20053, 'baz': 176.20557, 'cc_method': 'xcorr', 'comp': 'EE', 'dist': 65.76876, 'dt': 0.05, 'latR': -7.03357, 'latS': -7.62696, 'lonR': 109.73565, 'lonS': 109.77509, 'maxlag': 100, 'ngood': 129, 'substack': False, 'time': 1090281600.0} para\n"
     ]
    },
    {
     "data": {
      "image/png": "[encoded data removed]",
      "text/plain": [
       "<Figure size 432x288 with 1 Axes>"
      ]
     },
     "metadata": {
      "needs_background": "light"
     },
     "output_type": "display_data"
    }
   ],
   "source": [
    "with pyasdf.ASDFDataSet(cc_h5,mode='r') as ds:\n",
    "    data_type = ds.auxiliary_data.list()\n",
    "    path = ds.auxiliary_data[data_type[0]].list()\n",
    "    print(data_type,path)\n",
    "    \n",
    "    data = ds.auxiliary_data[data_type[0]][path[0]].data[:]\n",
    "    para = ds.auxiliary_data[data_type[0]][path[0]].parameters\n",
    "    print(data,para)\n",
    "    print(data, \"data\")\n",
    "    print(para, \"para\")\n",
    "    \n",
    "    # plot the waveform again\n",
    "    plt.plot(tvec,data)"
   ]
  },
  {
   "cell_type": "markdown",
   "metadata": {},
   "source": [
    "## The end.\n",
    "\n",
    "Please check the notebook of download_toASDF_cross_correlation.ipynb for how to start from noise data that are stored in ASDF file that is created using S0 of NoisePy. "
   ]
  },
  {
   "cell_type": "code",
   "execution_count": 11,
   "metadata": {},
   "outputs": [
    {
     "name": "stdout",
     "output_type": "stream",
     "text": [
      "0 Event(s) in Catalog:\n",
      "\n"
     ]
    },
    {
     "data": {
      "text/plain": [
       "obspy.core.event.catalog.Catalog"
      ]
     },
     "execution_count": 11,
     "metadata": {},
     "output_type": "execute_result"
    }
   ],
   "source": [
    "import pyasdf\n",
    "ds = pyasdf.ASDFDataSet(\"./CCF/Data Stasiun.h5\")\n",
    "print(ds.events)\n",
    "type(ds.events)"
   ]
  },
  {
   "cell_type": "code",
   "execution_count": null,
   "metadata": {},
   "outputs": [],
   "source": []
  }
 ],
 "metadata": {
  "kernelspec": {
   "display_name": "Python 3 (ipykernel)",
   "language": "python",
   "name": "python3"
  },
  "language_info": {
   "codemirror_mode": {
    "name": "ipython",
    "version": 3
   },
   "file_extension": ".py",
   "mimetype": "text/x-python",
   "name": "python",
   "nbconvert_exporter": "python",
   "pygments_lexer": "ipython3",
   "version": "3.7.12"
  }
 },
 "nbformat": 4,
 "nbformat_minor": 2
}
